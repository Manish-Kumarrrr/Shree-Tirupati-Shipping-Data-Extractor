{
  "cells": [
    {
      "cell_type": "markdown",
      "metadata": {
        "id": "ZAm2ba9lizg0"
      },
      "source": [
        "**Author: MANISH KUMAR**"
      ]
    },
    {
      "cell_type": "code",
      "execution_count": 2,
      "metadata": {
        "colab": {
          "base_uri": "https://localhost:8080/"
        },
        "id": "s1FqgfPiiV3_",
        "outputId": "6a8d1305-9772-4f7d-87ea-2465590347bd"
      },
      "outputs": [
        {
          "name": "stdout",
          "output_type": "stream",
          "text": [
            "Defaulting to user installation because normal site-packages is not writeable\n",
            "Requirement already satisfied: pandas in c:\\users\\manis\\appdata\\roaming\\python\\python311\\site-packages (2.0.3)\n",
            "Requirement already satisfied: python-dateutil>=2.8.2 in c:\\users\\manis\\appdata\\roaming\\python\\python311\\site-packages (from pandas) (2.8.2)\n",
            "Requirement already satisfied: pytz>=2020.1 in c:\\users\\manis\\appdata\\roaming\\python\\python311\\site-packages (from pandas) (2023.3)\n",
            "Requirement already satisfied: tzdata>=2022.1 in c:\\users\\manis\\appdata\\roaming\\python\\python311\\site-packages (from pandas) (2023.3)\n",
            "Requirement already satisfied: numpy>=1.21.0 in c:\\users\\manis\\appdata\\roaming\\python\\python311\\site-packages (from pandas) (1.25.1)\n",
            "Requirement already satisfied: six>=1.5 in c:\\users\\manis\\appdata\\roaming\\python\\python311\\site-packages (from python-dateutil>=2.8.2->pandas) (1.16.0)\n",
            "Note: you may need to restart the kernel to use updated packages.\n"
          ]
        },
        {
          "name": "stderr",
          "output_type": "stream",
          "text": [
            "\n",
            "[notice] A new release of pip is available: 23.1.2 -> 24.0\n",
            "[notice] To update, run: python.exe -m pip install --upgrade pip\n"
          ]
        }
      ],
      "source": [
        "pip install pandas\n"
      ]
    },
    {
      "cell_type": "code",
      "execution_count": 3,
      "metadata": {},
      "outputs": [
        {
          "name": "stdout",
          "output_type": "stream",
          "text": [
            "Note: you may need to restart the kernel to use updated packages.Defaulting to user installation because normal site-packages is not writeable\n",
            "Requirement already satisfied: openpyxl in c:\\users\\manis\\appdata\\roaming\\python\\python311\\site-packages (3.1.2)\n",
            "Requirement already satisfied: et-xmlfile in c:\\users\\manis\\appdata\\roaming\\python\\python311\\site-packages (from openpyxl) (1.1.0)\n",
            "\n"
          ]
        },
        {
          "name": "stderr",
          "output_type": "stream",
          "text": [
            "\n",
            "[notice] A new release of pip is available: 23.1.2 -> 24.0\n",
            "[notice] To update, run: python.exe -m pip install --upgrade pip\n"
          ]
        }
      ],
      "source": [
        "pip install openpyxl"
      ]
    },
    {
      "cell_type": "code",
      "execution_count": 4,
      "metadata": {},
      "outputs": [
        {
          "name": "stdout",
          "output_type": "stream",
          "text": [
            "Defaulting to user installation because normal site-packages is not writeable\n",
            "Requirement already satisfied: matplotlib in c:\\users\\manis\\appdata\\roaming\\python\\python311\\site-packages (3.8.3)\n",
            "Requirement already satisfied: contourpy>=1.0.1 in c:\\users\\manis\\appdata\\roaming\\python\\python311\\site-packages (from matplotlib) (1.2.0)\n",
            "Requirement already satisfied: cycler>=0.10 in c:\\users\\manis\\appdata\\roaming\\python\\python311\\site-packages (from matplotlib) (0.12.1)\n",
            "Requirement already satisfied: fonttools>=4.22.0 in c:\\users\\manis\\appdata\\roaming\\python\\python311\\site-packages (from matplotlib) (4.50.0)\n",
            "Requirement already satisfied: kiwisolver>=1.3.1 in c:\\users\\manis\\appdata\\roaming\\python\\python311\\site-packages (from matplotlib) (1.4.5)\n",
            "Requirement already satisfied: numpy<2,>=1.21 in c:\\users\\manis\\appdata\\roaming\\python\\python311\\site-packages (from matplotlib) (1.25.1)\n",
            "Requirement already satisfied: packaging>=20.0 in c:\\users\\manis\\appdata\\roaming\\python\\python311\\site-packages (from matplotlib) (23.1)\n",
            "Requirement already satisfied: pillow>=8 in c:\\users\\manis\\appdata\\roaming\\python\\python311\\site-packages (from matplotlib) (10.2.0)\n",
            "Requirement already satisfied: pyparsing>=2.3.1 in c:\\users\\manis\\appdata\\roaming\\python\\python311\\site-packages (from matplotlib) (3.1.2)\n",
            "Requirement already satisfied: python-dateutil>=2.7 in c:\\users\\manis\\appdata\\roaming\\python\\python311\\site-packages (from matplotlib) (2.8.2)\n",
            "Requirement already satisfied: six>=1.5 in c:\\users\\manis\\appdata\\roaming\\python\\python311\\site-packages (from python-dateutil>=2.7->matplotlib) (1.16.0)\n",
            "Note: you may need to restart the kernel to use updated packages.\n"
          ]
        },
        {
          "name": "stderr",
          "output_type": "stream",
          "text": [
            "\n",
            "[notice] A new release of pip is available: 23.1.2 -> 24.0\n",
            "[notice] To update, run: python.exe -m pip install --upgrade pip\n"
          ]
        }
      ],
      "source": [
        "pip install matplotlib"
      ]
    },
    {
      "cell_type": "code",
      "execution_count": 5,
      "metadata": {
        "colab": {
          "base_uri": "https://localhost:8080/"
        },
        "id": "_ggl3riZoV9r",
        "outputId": "f52ccea4-559c-4961-96d5-5e6d97382801"
      },
      "outputs": [
        {
          "name": "stdout",
          "output_type": "stream",
          "text": [
            "Defaulting to user installation because normal site-packages is not writeable\n",
            "Requirement already satisfied: xlsxwriter in c:\\users\\manis\\appdata\\roaming\\python\\python311\\site-packages (3.1.2)\n",
            "Note: you may need to restart the kernel to use updated packages.\n"
          ]
        },
        {
          "name": "stderr",
          "output_type": "stream",
          "text": [
            "\n",
            "[notice] A new release of pip is available: 23.1.2 -> 24.0\n",
            "[notice] To update, run: python.exe -m pip install --upgrade pip\n"
          ]
        }
      ],
      "source": [
        "pip install xlsxwriter"
      ]
    },
    {
      "cell_type": "code",
      "execution_count": 6,
      "metadata": {
        "colab": {
          "base_uri": "https://localhost:8080/"
        },
        "id": "Hi00L0Keip6n",
        "outputId": "379eee69-9a7c-4da6-fb23-f964c21352e6"
      },
      "outputs": [
        {
          "name": "stdout",
          "output_type": "stream",
          "text": [
            "Defaulting to user installation because normal site-packages is not writeable\n",
            "Requirement already satisfied: bs4 in c:\\users\\manis\\appdata\\roaming\\python\\python311\\site-packages (0.0.1)\n",
            "Requirement already satisfied: beautifulsoup4 in c:\\users\\manis\\appdata\\roaming\\python\\python311\\site-packages (from bs4) (4.12.2)\n",
            "Requirement already satisfied: soupsieve>1.2 in c:\\users\\manis\\appdata\\roaming\\python\\python311\\site-packages (from beautifulsoup4->bs4) (2.4.1)\n",
            "Note: you may need to restart the kernel to use updated packages.\n"
          ]
        },
        {
          "name": "stderr",
          "output_type": "stream",
          "text": [
            "\n",
            "[notice] A new release of pip is available: 23.1.2 -> 24.0\n",
            "[notice] To update, run: python.exe -m pip install --upgrade pip\n"
          ]
        }
      ],
      "source": [
        "pip install bs4"
      ]
    },
    {
      "cell_type": "code",
      "execution_count": 7,
      "metadata": {},
      "outputs": [
        {
          "name": "stdout",
          "output_type": "stream",
          "text": [
            "Defaulting to user installation because normal site-packages is not writeable\n",
            "Requirement already satisfied: requests in c:\\users\\manis\\appdata\\roaming\\python\\python311\\site-packages (2.31.0)\n",
            "Requirement already satisfied: charset-normalizer<4,>=2 in c:\\users\\manis\\appdata\\roaming\\python\\python311\\site-packages (from requests) (3.2.0)\n",
            "Requirement already satisfied: idna<4,>=2.5 in c:\\users\\manis\\appdata\\roaming\\python\\python311\\site-packages (from requests) (3.4)\n",
            "Requirement already satisfied: urllib3<3,>=1.21.1 in c:\\users\\manis\\appdata\\roaming\\python\\python311\\site-packages (from requests) (2.0.3)\n",
            "Requirement already satisfied: certifi>=2017.4.17 in c:\\users\\manis\\appdata\\roaming\\python\\python311\\site-packages (from requests) (2023.5.7)\n",
            "Note: you may need to restart the kernel to use updated packages.\n"
          ]
        },
        {
          "name": "stderr",
          "output_type": "stream",
          "text": [
            "\n",
            "[notice] A new release of pip is available: 23.1.2 -> 24.0\n",
            "[notice] To update, run: python.exe -m pip install --upgrade pip\n"
          ]
        }
      ],
      "source": [
        "pip install requests"
      ]
    },
    {
      "cell_type": "code",
      "execution_count": 8,
      "metadata": {
        "id": "oZNDcNlrhmfs"
      },
      "outputs": [
        {
          "data": {
            "text/plain": [
              "['Delivered', '29-02-24', '08-03-24']"
            ]
          },
          "execution_count": 8,
          "metadata": {},
          "output_type": "execute_result"
        }
      ],
      "source": [
        "import requests\n",
        "import datetime\n",
        "from bs4 import BeautifulSoup\n",
        "def func(awb):\n",
        "  url='http://www.shreetirupaticourier.net/frm_doctrackweb.aspx?docno='+str(awb)\n",
        "  r = requests.get(url)\n",
        "  df= BeautifulSoup(r.content, 'html.parser')\n",
        "  status=str(df.find(\"span\", { \"id\" : \"lblStatus\" }))\n",
        "  booked=str(df.find(\"span\", { \"id\" : \"txtDate\" }))\n",
        "  flag=0\n",
        "  book_date=\"\"\n",
        "  for i in range(len(booked)):\n",
        "    if(booked[i]==' '):\n",
        "      flag=0\n",
        "    if flag==1:\n",
        "      book_date=book_date+booked[i]\n",
        "    if(booked[i]=='>'):\n",
        "      flag=1\n",
        "    \n",
        "\n",
        "  ans=\"\"\n",
        "  last_update_date=\"\"\n",
        "  flag=1\n",
        "  for i in range(65,1000):\n",
        "    if(len(status)<=i or status[i]=='<'):\n",
        "      break\n",
        "    if(status[i]==' '):\n",
        "      flag=0\n",
        "    \n",
        "    if(flag==1):\n",
        "      ans=ans+status[i]\n",
        "\n",
        "    if(status[i-6:i]==\"Dated \"):\n",
        "      flag=2\n",
        "    if(flag==2):\n",
        "      last_update_date=last_update_date+status[i]\n",
        "      \n",
        "\n",
        "  if(ans==\"\"):\n",
        "    ans=\"Invalid\"\n",
        "    book_date=\"00-00-0000\"\n",
        "    last_update_date=\"00-00-0000\"\n",
        "  elif(ans==\"Delivery\" or ans==\"Delivered\" or ans==\"Out\" or ans==\"Received\"):\n",
        "    ans=\"Delivered\"\n",
        "\n",
        "  if(book_date==\"\"):\n",
        "    book_date=\"00-00-0000\"\n",
        "  if(last_update_date==\"\"):\n",
        "    last_update_date=\"00-00-0000\"\n",
        "  return [ans,book_date,last_update_date]\n",
        "\n",
        "# testing of function\n",
        "func(120200218978)\n",
        "func(120200415517)\n"
      ]
    },
    {
      "cell_type": "code",
      "execution_count": 9,
      "metadata": {
        "colab": {
          "base_uri": "https://localhost:8080/",
          "height": 36
        },
        "id": "W5D0v9RIdZ7z",
        "outputId": "310a6105-c8c6-4dfe-bbb7-42637233ee9e"
      },
      "outputs": [
        {
          "name": "stdout",
          "output_type": "stream",
          "text": [
            "<class 'pandas.core.frame.DataFrame'>\n"
          ]
        }
      ],
      "source": [
        "awbList = []\n",
        "import pandas as pd\n",
        "df = pd.read_excel('input.xlsx')\n",
        "# print(df)\n",
        "print(type(df))\n",
        "df=df.iloc[:, 0]\n",
        "for id in df:\n",
        "    awbList.append(id)\n",
        "\n"
      ]
    },
    {
      "cell_type": "code",
      "execution_count": 10,
      "metadata": {
        "id": "vtFkgdkTdmCx"
      },
      "outputs": [],
      "source": [
        "status=[]\n",
        "book_date=[]\n",
        "last_update_date=[]\n",
        "for awb in awbList:\n",
        "  x=func(awb)\n",
        "  status.append(x[0])\n",
        "  book_date.append(x[1])\n",
        "  last_update_date.append(x[2])\n"
      ]
    },
    {
      "cell_type": "code",
      "execution_count": 11,
      "metadata": {
        "id": "__Ggi6D-deXU"
      },
      "outputs": [],
      "source": [
        "record=pd.DataFrame({\"AWB Number\":awbList ,\n",
        "                     'Parcel Status': status,\n",
        "                     'Book Date':book_date,\n",
        "                     'Last Update Date':last_update_date\n",
        "                     })\n",
        "record['AWB Number'] = record['AWB Number'].astype(str)\n"
      ]
    },
    {
      "cell_type": "code",
      "execution_count": 12,
      "metadata": {
        "colab": {
          "base_uri": "https://localhost:8080/",
          "height": 175
        },
        "id": "YIFNAAN3dt55",
        "outputId": "e5f7be6c-0877-436b-c642-7ce3d0929910"
      },
      "outputs": [
        {
          "data": {
            "text/html": [
              "<div>\n",
              "<style scoped>\n",
              "    .dataframe tbody tr th:only-of-type {\n",
              "        vertical-align: middle;\n",
              "    }\n",
              "\n",
              "    .dataframe tbody tr th {\n",
              "        vertical-align: top;\n",
              "    }\n",
              "\n",
              "    .dataframe thead th {\n",
              "        text-align: right;\n",
              "    }\n",
              "</style>\n",
              "<table border=\"1\" class=\"dataframe\">\n",
              "  <thead>\n",
              "    <tr style=\"text-align: right;\">\n",
              "      <th></th>\n",
              "      <th>AWB Number</th>\n",
              "      <th>Parcel Status</th>\n",
              "      <th>Book Date</th>\n",
              "      <th>Last Update Date</th>\n",
              "    </tr>\n",
              "  </thead>\n",
              "  <tbody>\n",
              "    <tr>\n",
              "      <th>0</th>\n",
              "      <td>120200414845</td>\n",
              "      <td>Delivered</td>\n",
              "      <td>01-02-24</td>\n",
              "      <td>06-02-24</td>\n",
              "    </tr>\n",
              "    <tr>\n",
              "      <th>1</th>\n",
              "      <td>120200414846</td>\n",
              "      <td>Delivered</td>\n",
              "      <td>01-02-24</td>\n",
              "      <td>05-02-24</td>\n",
              "    </tr>\n",
              "    <tr>\n",
              "      <th>2</th>\n",
              "      <td>120200414847</td>\n",
              "      <td>Booked</td>\n",
              "      <td>01-02-24</td>\n",
              "      <td>01-02-2024</td>\n",
              "    </tr>\n",
              "    <tr>\n",
              "      <th>3</th>\n",
              "      <td>120200414848</td>\n",
              "      <td>Delivered</td>\n",
              "      <td>01-02-24</td>\n",
              "      <td>03-02-24</td>\n",
              "    </tr>\n",
              "    <tr>\n",
              "      <th>4</th>\n",
              "      <td>120200414849</td>\n",
              "      <td>Delivered</td>\n",
              "      <td>01-02-24</td>\n",
              "      <td>05-02-24</td>\n",
              "    </tr>\n",
              "    <tr>\n",
              "      <th>...</th>\n",
              "      <td>...</td>\n",
              "      <td>...</td>\n",
              "      <td>...</td>\n",
              "      <td>...</td>\n",
              "    </tr>\n",
              "    <tr>\n",
              "      <th>671</th>\n",
              "      <td>120200415516</td>\n",
              "      <td>Delivered</td>\n",
              "      <td>29-02-24</td>\n",
              "      <td>00-00-0000</td>\n",
              "    </tr>\n",
              "    <tr>\n",
              "      <th>672</th>\n",
              "      <td>120200415517</td>\n",
              "      <td>Delivered</td>\n",
              "      <td>29-02-24</td>\n",
              "      <td>08-03-24</td>\n",
              "    </tr>\n",
              "    <tr>\n",
              "      <th>673</th>\n",
              "      <td>120200415518</td>\n",
              "      <td>Booked</td>\n",
              "      <td>29-02-24</td>\n",
              "      <td>29-02-2024</td>\n",
              "    </tr>\n",
              "    <tr>\n",
              "      <th>674</th>\n",
              "      <td>120200415519</td>\n",
              "      <td>Delivered</td>\n",
              "      <td>29-02-24</td>\n",
              "      <td>09-03-24</td>\n",
              "    </tr>\n",
              "    <tr>\n",
              "      <th>675</th>\n",
              "      <td>120200415520</td>\n",
              "      <td>Delivered</td>\n",
              "      <td>07-03-24</td>\n",
              "      <td>09-03-24</td>\n",
              "    </tr>\n",
              "  </tbody>\n",
              "</table>\n",
              "<p>676 rows × 4 columns</p>\n",
              "</div>"
            ],
            "text/plain": [
              "       AWB Number Parcel Status Book Date Last Update Date\n",
              "0    120200414845     Delivered  01-02-24         06-02-24\n",
              "1    120200414846     Delivered  01-02-24         05-02-24\n",
              "2    120200414847        Booked  01-02-24       01-02-2024\n",
              "3    120200414848     Delivered  01-02-24         03-02-24\n",
              "4    120200414849     Delivered  01-02-24         05-02-24\n",
              "..            ...           ...       ...              ...\n",
              "671  120200415516     Delivered  29-02-24       00-00-0000\n",
              "672  120200415517     Delivered  29-02-24         08-03-24\n",
              "673  120200415518        Booked  29-02-24       29-02-2024\n",
              "674  120200415519     Delivered  29-02-24         09-03-24\n",
              "675  120200415520     Delivered  07-03-24         09-03-24\n",
              "\n",
              "[676 rows x 4 columns]"
            ]
          },
          "execution_count": 12,
          "metadata": {},
          "output_type": "execute_result"
        }
      ],
      "source": [
        "record       "
      ]
    },
    {
      "cell_type": "code",
      "execution_count": 13,
      "metadata": {},
      "outputs": [
        {
          "name": "stdout",
          "output_type": "stream",
          "text": [
            "4\n",
            "AWB Number\n"
          ]
        },
        {
          "data": {
            "text/html": [
              "<div>\n",
              "<style scoped>\n",
              "    .dataframe tbody tr th:only-of-type {\n",
              "        vertical-align: middle;\n",
              "    }\n",
              "\n",
              "    .dataframe tbody tr th {\n",
              "        vertical-align: top;\n",
              "    }\n",
              "\n",
              "    .dataframe thead th {\n",
              "        text-align: right;\n",
              "    }\n",
              "</style>\n",
              "<table border=\"1\" class=\"dataframe\">\n",
              "  <thead>\n",
              "    <tr style=\"text-align: right;\">\n",
              "      <th></th>\n",
              "      <th>AWB Number</th>\n",
              "    </tr>\n",
              "    <tr>\n",
              "      <th>Parcel Status</th>\n",
              "      <th></th>\n",
              "    </tr>\n",
              "  </thead>\n",
              "  <tbody>\n",
              "    <tr>\n",
              "      <th>Booked</th>\n",
              "      <td>94</td>\n",
              "    </tr>\n",
              "    <tr>\n",
              "      <th>Delivered</th>\n",
              "      <td>516</td>\n",
              "    </tr>\n",
              "    <tr>\n",
              "      <th>Invalid</th>\n",
              "      <td>1</td>\n",
              "    </tr>\n",
              "    <tr>\n",
              "      <th>Return</th>\n",
              "      <td>65</td>\n",
              "    </tr>\n",
              "  </tbody>\n",
              "</table>\n",
              "</div>"
            ],
            "text/plain": [
              "               AWB Number\n",
              "Parcel Status            \n",
              "Booked                 94\n",
              "Delivered             516\n",
              "Invalid                 1\n",
              "Return                 65"
            ]
          },
          "execution_count": 13,
          "metadata": {},
          "output_type": "execute_result"
        }
      ],
      "source": [
        "company_name=\"Shipping_Company : Shree Tirupati Courier Service PVT.LTD\"\n",
        "date=\"Date : \"+str(datetime.datetime.now())\n",
        "MetaData=pd.DataFrame({company_name, date})\n",
        "\n",
        "grouped = record.groupby('Parcel Status')\n",
        "print(len(grouped))\n",
        "grouped=grouped.count()\n",
        "grouped=(grouped.iloc[:, [0]])\n",
        "for i in grouped.iloc[:,[0]]:\n",
        "    print(i)\n",
        "grouped"
      ]
    },
    {
      "cell_type": "code",
      "execution_count": 14,
      "metadata": {},
      "outputs": [
        {
          "name": "stdout",
          "output_type": "stream",
          "text": [
            "74 days\n"
          ]
        }
      ],
      "source": [
        "class Date:\n",
        "\tdef __init__(self, d, m, y):\n",
        "\t\tself.d = d\n",
        "\t\tself.m = m\n",
        "\t\tself.y = y\n",
        "\n",
        "\n",
        "# To store number of days in all months from\n",
        "# January to Dec.\n",
        "monthDays = [31, 28, 31, 30, 31, 30,\n",
        "\t\t\t31, 31, 30, 31, 30, 31]\n",
        "\n",
        "# This function counts number of leap years\n",
        "# before the given date\n",
        "\n",
        "\n",
        "def countLeapYears(d):\n",
        "\n",
        "\tyears = d.y\n",
        "\n",
        "\t# Check if the current year needs to be considered\n",
        "\t# for the count of leap years or not\n",
        "\tif (d.m <= 2):\n",
        "\t\tyears -= 1\n",
        "\n",
        "\t# An year is a leap year if it is a multiple of 4,\n",
        "\t# multiple of 400 and not a multiple of 100.\n",
        "\treturn int(years / 4) - int(years / 100) + int(years / 400)\n",
        "\n",
        "\n",
        "# This function returns number of days between two\n",
        "# given dates\n",
        "def getDifference(dt1, dt2):\n",
        "\n",
        "\t# COUNT TOTAL NUMBER OF DAYS BEFORE FIRST DATE 'dt1'\n",
        "\n",
        "\t# initialize count using years and day\n",
        "\tn1 = dt1.y * 365 + dt1.d\n",
        "\n",
        "\t# Add days for months in given date\n",
        "\tfor i in range(0, dt1.m - 1):\n",
        "\t\tn1 += monthDays[i]\n",
        "\n",
        "\t# Since every leap year is of 366 days,\n",
        "\t# Add a day for every leap year\n",
        "\tn1 += countLeapYears(dt1)\n",
        "\n",
        "\t# SIMILARLY, COUNT TOTAL NUMBER OF DAYS BEFORE 'dt2'\n",
        "\n",
        "\tn2 = dt2.y * 365 + dt2.d\n",
        "\tfor i in range(0, dt2.m - 1):\n",
        "\t\tn2 += monthDays[i]\n",
        "\tn2 += countLeapYears(dt2)\n",
        "\n",
        "\t# return difference between two counts\n",
        "\treturn (n2 - n1)\n",
        "\n",
        "\n",
        "# testing\n",
        "dt1 = Date(13, 12, 2018)\n",
        "dt2 = Date(25, 2, 2019)\n",
        "\n",
        "print(getDifference(dt1, dt2), \"days\")\n"
      ]
    },
    {
      "cell_type": "code",
      "execution_count": 28,
      "metadata": {},
      "outputs": [],
      "source": [
        "writer = pd.ExcelWriter('output.xlsx', engine='xlsxwriter')\n",
        "# record.to_excel(writer, sheet_name='Sheet1', startrow=1, header=False, index=False)\n",
        "MetaData.to_excel(writer, sheet_name='Sheet1', startrow=1, startcol=1, header=False, index=False)\n",
        "col=0\n",
        "\n"
      ]
    },
    {
      "cell_type": "code",
      "execution_count": 29,
      "metadata": {},
      "outputs": [
        {
          "name": "stdout",
          "output_type": "stream",
          "text": [
            "['08', '02', '24']   ['29', '02', '2024']\n"
          ]
        }
      ],
      "source": [
        "iter=0\n",
        "temp=pd.DataFrame\n",
        "label=[]\n",
        "value=[]\n",
        "\n",
        "    \n",
        "   \n",
        "\n",
        "for i,j in grouped.iterrows():\n",
        "    awblist=record.groupby('Parcel Status')['AWB Number'].apply(list)[iter]\n",
        "    bookdate=record.groupby('Parcel Status')['Book Date'].apply(list)[iter]\n",
        "    last_update_date=record.groupby('Parcel Status')['Last Update Date'].apply(list)[iter]\n",
        "    days=[]\n",
        "    \n",
        "    for ptr in range(0,len(awblist)):\n",
        "        dt1=book_date[ptr]\n",
        "        dt2=last_update_date[ptr]\n",
        "        d=\"NA\"\n",
        "        try:\n",
        "            dt1=dt1.split('-')\n",
        "            dt2=dt2.split('-')\n",
        "            if(awblist[ptr]==\"120200415518\"):\n",
        "                print(dt1,\" \",dt2)\n",
        "            dt1 = Date(int(dt1[0]), int(dt1[1]),2000+ (int(dt1[2]))%100)\n",
        "            dt2 = Date(int(dt2[0]), int(dt2[1]), 2000+ (int(dt2[2]))%100)\n",
        "            gap=getDifference(dt1, dt2)\n",
        "            if gap>=0:\n",
        "                d=gap\n",
        "        except:\n",
        "            d=\"NA\"\n",
        "\n",
        "        days.append(d)\n",
        "\n",
        "\n",
        "        \n",
        "  \n",
        "\n",
        "    title=pd.DataFrame({i})\n",
        "    label.append(i)\n",
        "    value.append(len(awblist))\n",
        "\n",
        "    title.to_excel(writer, sheet_name='Sheet1', startrow=4, startcol=col, header=False, index=False)\n",
        "\n",
        "\n",
        "    temp=pd.DataFrame({\"AWB Number\":awblist ,\n",
        "                     'Book Date':bookdate,\n",
        "                     'Last Update Date':last_update_date,\n",
        "                    \"Days\":days\n",
        "\n",
        "                     })\n",
        "    temp.to_excel(writer, sheet_name='Sheet1', startrow=5, startcol=col, header=True, index=False)\n",
        "    iter=iter+1\n",
        "    col=col+5\n",
        "# writer.close()\n"
      ]
    },
    {
      "cell_type": "code",
      "execution_count": 30,
      "metadata": {},
      "outputs": [],
      "source": [
        "# Data \n",
        "data = {\n",
        "    'Status':label,\n",
        "    'Count': value\n",
        "}\n",
        "ct=len(label)\n",
        "df = pd.DataFrame(data)\n",
        "title=\"Summary\"\n",
        "title=pd.DataFrame({title})\n",
        "title.to_excel(writer, sheet_name='Sheet1', startrow=4, startcol=col, header=False, index=False)\n",
        "df.to_excel(writer, sheet_name='Sheet1', startrow=5, startcol=col , header=True, index=False)\n",
        "\n",
        "\n",
        "writer.close()\n"
      ]
    },
    {
      "cell_type": "code",
      "execution_count": 35,
      "metadata": {},
      "outputs": [
        {
          "name": "stdout",
          "output_type": "stream",
          "text": [
            "523\n",
            "'Sheet1'!$V$6:$V$10\n",
            "<class 'openpyxl.chart.reference.Reference'>\n",
            "'Sheet1'!$U$7:$U$11\n",
            "<class 'openpyxl.chart.reference.Reference'>\n"
          ]
        }
      ],
      "source": [
        "import pandas as pd\n",
        "from openpyxl import load_workbook\n",
        "from openpyxl.chart import PieChart, Reference\n",
        "from openpyxl.chart.label import DataLabelList\n",
        "# Load the existing workbook and the sheet where you want to append the chart\n",
        "book = load_workbook('output.xlsx')\n",
        "sheet = book['Sheet1']\n",
        "\n",
        "# Data \n",
        "data = {\n",
        "    'Status':label,\n",
        "    'Count': value\n",
        "}\n",
        "ct=len(label)\n",
        "# Convert the data into a DataFrame\n",
        "df = pd.DataFrame(data)\n",
        "\n",
        "# Find the last row in the worksheet\n",
        "last_row = sheet.max_row+1\n",
        "print(last_row)\n",
        "\n",
        "# Append the data starting from the last row + 1 (to avoid overwriting)\n",
        "# sheet.append(\"Summary\")\n",
        "# for index, row in df.iterrows():\n",
        "#     sheet.append(row.values.tolist())\n",
        "#     print(row.values.tolist())\n",
        "\n",
        "\n",
        "    \n",
        "\n",
        "# Create a pie chart with the new data\n",
        "chart = PieChart()\n",
        "chart.title = \"Shipment Status Chart\"\n",
        "labels = Reference(sheet, min_col=col+1, min_row=7, max_row=7+len(df))\n",
        "data = Reference(sheet, min_col=col+2, min_row=6, max_row=6+len(df))\n",
        "chart.add_data(data, titles_from_data=True)\n",
        "chart.set_categories(labels)\n",
        "print(data)\n",
        "print(type(data))\n",
        "print(labels)\n",
        "print(type(labels))\n",
        "\n",
        "\n",
        "\n",
        "# Style the data labels\n",
        "data_labels = DataLabelList()\n",
        "data_labels.showVal = True  # Show the value for each slice\n",
        "data_labels.showPercent = True  # Show the percentage for each slice\n",
        "chart.dataLabels = data_labels\n",
        "\n",
        "# Place the chart on the sheet\n",
        "sheet.add_chart(chart, 'U13')\n",
        "\n",
        "# Save the workbook\n",
        "book.save('output.xlsx')\n"
      ]
    },
    {
      "cell_type": "code",
      "execution_count": 21,
      "metadata": {},
      "outputs": [
        {
          "data": {
            "image/png": "[encoded data removed]",
            "text/plain": [
              "<Figure size 640x480 with 1 Axes>"
            ]
          },
          "metadata": {},
          "output_type": "display_data"
        }
      ],
      "source": [
        "import matplotlib.pyplot as plt\n",
        "# Plot\n",
        "plt.pie(value, labels=label, autopct='%1.1f%%')\n",
        "\n",
        "# Display the pie chart\n",
        "plt.show()"
      ]
    },
    {
      "cell_type": "code",
      "execution_count": null,
      "metadata": {},
      "outputs": [],
      "source": []
    }
  ],
  "metadata": {
    "colab": {
      "provenance": []
    },
    "kernelspec": {
      "display_name": "Python 3",
      "language": "python",
      "name": "python3"
    },
    "language_info": {
      "codemirror_mode": {
        "name": "ipython",
        "version": 3
      },
      "file_extension": ".py",
      "mimetype": "text/x-python",
      "name": "python",
      "nbconvert_exporter": "python",
      "pygments_lexer": "ipython3",
      "version": "3.11.4"
    },
    "vscode": {
      "interpreter": {
        "hash": "26de051ba29f2982a8de78e945f0abaf191376122a1563185a90213a26c5da77"
      }
    }
  },
  "nbformat": 4,
  "nbformat_minor": 0
}
