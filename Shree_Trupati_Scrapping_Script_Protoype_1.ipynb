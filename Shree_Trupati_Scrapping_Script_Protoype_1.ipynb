{
  "cells": [
    {
      "cell_type": "markdown",
      "metadata": {
        "id": "ZAm2ba9lizg0"
      },
      "source": [
        "**Author: MANISH KUMAR**"
      ]
    },
    {
      "cell_type": "code",
      "execution_count": 3,
      "metadata": {
        "colab": {
          "base_uri": "https://localhost:8080/"
        },
        "id": "s1FqgfPiiV3_",
        "outputId": "6a8d1305-9772-4f7d-87ea-2465590347bd"
      },
      "outputs": [
        {
          "name": "stdout",
          "output_type": "stream",
          "text": [
            "Collecting pandasNote: you may need to restart the kernel to use updated packages.\n",
            "\n",
            "  Obtaining dependency information for pandas from https://files.pythonhosted.org/packages/71/00/6beaeeba7f075d15ea167a5caa039b861e58ff2f58a5b659abb9b544c8f6/pandas-2.2.1-cp312-cp312-win_amd64.whl.metadata\n",
            "  Downloading pandas-2.2.1-cp312-cp312-win_amd64.whl.metadata (19 kB)\n",
            "Collecting numpy<2,>=1.26.0 (from pandas)\n",
            "  Obtaining dependency information for numpy<2,>=1.26.0 from https://files.pythonhosted.org/packages/16/2e/86f24451c2d530c88daf997cb8d6ac622c1d40d19f5a031ed68a4b73a374/numpy-1.26.4-cp312-cp312-win_amd64.whl.metadata\n",
            "  Downloading numpy-1.26.4-cp312-cp312-win_amd64.whl.metadata (61 kB)\n",
            "     ---------------------------------------- 0.0/61.0 kB ? eta -:--:--\n",
            "     ------ --------------------------------- 10.2/61.0 kB ? eta -:--:--\n",
            "     ------------------- ------------------ 30.7/61.0 kB 262.6 kB/s eta 0:00:01\n",
            "     -------------------------------------- 61.0/61.0 kB 461.8 kB/s eta 0:00:00\n",
            "Requirement already satisfied: python-dateutil>=2.8.2 in c:\\users\\manis\\appdata\\roaming\\python\\python312\\site-packages (from pandas) (2.9.0.post0)\n",
            "Collecting pytz>=2020.1 (from pandas)\n",
            "  Obtaining dependency information for pytz>=2020.1 from https://files.pythonhosted.org/packages/9c/3d/a121f284241f08268b21359bd425f7d4825cffc5ac5cd0e1b3d82ffd2b10/pytz-2024.1-py2.py3-none-any.whl.metadata\n",
            "  Downloading pytz-2024.1-py2.py3-none-any.whl.metadata (22 kB)\n",
            "Collecting tzdata>=2022.7 (from pandas)\n",
            "  Obtaining dependency information for tzdata>=2022.7 from https://files.pythonhosted.org/packages/65/58/f9c9e6be752e9fcb8b6a0ee9fb87e6e7a1f6bcab2cdc73f02bb7ba91ada0/tzdata-2024.1-py2.py3-none-any.whl.metadata\n",
            "  Downloading tzdata-2024.1-py2.py3-none-any.whl.metadata (1.4 kB)\n",
            "Requirement already satisfied: six>=1.5 in c:\\users\\manis\\appdata\\roaming\\python\\python312\\site-packages (from python-dateutil>=2.8.2->pandas) (1.16.0)\n",
            "Downloading pandas-2.2.1-cp312-cp312-win_amd64.whl (11.5 MB)\n",
            "   ---------------------------------------- 0.0/11.5 MB ? eta -:--:--\n",
            "   ---------------------------------------- 0.1/11.5 MB 1.7 MB/s eta 0:00:07\n",
            "   ---------------------------------------- 0.1/11.5 MB 1.3 MB/s eta 0:00:09\n",
            "    --------------------------------------- 0.2/11.5 MB 1.2 MB/s eta 0:00:10\n",
            "    --------------------------------------- 0.3/11.5 MB 1.7 MB/s eta 0:00:07\n",
            "   - -------------------------------------- 0.4/11.5 MB 1.6 MB/s eta 0:00:07\n",
            "   - -------------------------------------- 0.4/11.5 MB 1.6 MB/s eta 0:00:07\n",
            "   - -------------------------------------- 0.5/11.5 MB 1.6 MB/s eta 0:00:08\n",
            "   - -------------------------------------- 0.5/11.5 MB 1.6 MB/s eta 0:00:08\n",
            "   -- ------------------------------------- 0.6/11.5 MB 1.5 MB/s eta 0:00:08\n",
            "   -- ------------------------------------- 0.6/11.5 MB 1.4 MB/s eta 0:00:09\n",
            "   -- ------------------------------------- 0.7/11.5 MB 1.4 MB/s eta 0:00:08\n",
            "   -- ------------------------------------- 0.7/11.5 MB 1.4 MB/s eta 0:00:08\n",
            "   -- ------------------------------------- 0.8/11.5 MB 1.3 MB/s eta 0:00:09\n",
            "   --- ------------------------------------ 0.9/11.5 MB 1.4 MB/s eta 0:00:08\n",
            "   --- ------------------------------------ 0.9/11.5 MB 1.3 MB/s eta 0:00:09\n",
            "   --- ------------------------------------ 0.9/11.5 MB 1.3 MB/s eta 0:00:09\n",
            "   --- ------------------------------------ 1.0/11.5 MB 1.3 MB/s eta 0:00:09\n",
            "   --- ------------------------------------ 1.1/11.5 MB 1.3 MB/s eta 0:00:08\n",
            "   ---- ----------------------------------- 1.2/11.5 MB 1.3 MB/s eta 0:00:08\n",
            "   ---- ----------------------------------- 1.3/11.5 MB 1.4 MB/s eta 0:00:08\n",
            "   ---- ----------------------------------- 1.3/11.5 MB 1.4 MB/s eta 0:00:08\n",
            "   ----- ---------------------------------- 1.5/11.5 MB 1.4 MB/s eta 0:00:08\n",
            "   ----- ---------------------------------- 1.5/11.5 MB 1.4 MB/s eta 0:00:08\n",
            "   ----- ---------------------------------- 1.6/11.5 MB 1.4 MB/s eta 0:00:08\n",
            "   ----- ---------------------------------- 1.6/11.5 MB 1.4 MB/s eta 0:00:08\n",
            "   ----- ---------------------------------- 1.7/11.5 MB 1.4 MB/s eta 0:00:08\n",
            "   ------ --------------------------------- 1.8/11.5 MB 1.4 MB/s eta 0:00:07\n",
            "   ------ --------------------------------- 1.8/11.5 MB 1.4 MB/s eta 0:00:07\n",
            "   ------ --------------------------------- 1.9/11.5 MB 1.4 MB/s eta 0:00:07\n",
            "   ------ --------------------------------- 2.0/11.5 MB 1.4 MB/s eta 0:00:07\n",
            "   ------- -------------------------------- 2.0/11.5 MB 1.4 MB/s eta 0:00:07\n",
            "   ------- -------------------------------- 2.0/11.5 MB 1.4 MB/s eta 0:00:07\n",
            "   ------- -------------------------------- 2.1/11.5 MB 1.4 MB/s eta 0:00:07\n",
            "   ------- -------------------------------- 2.2/11.5 MB 1.4 MB/s eta 0:00:07\n",
            "   -------- ------------------------------- 2.3/11.5 MB 1.4 MB/s eta 0:00:07\n",
            "   -------- ------------------------------- 2.3/11.5 MB 1.4 MB/s eta 0:00:07\n",
            "   -------- ------------------------------- 2.6/11.5 MB 1.5 MB/s eta 0:00:06\n",
            "   --------- ------------------------------ 2.7/11.5 MB 1.5 MB/s eta 0:00:06\n",
            "   --------- ------------------------------ 2.8/11.5 MB 1.5 MB/s eta 0:00:06\n",
            "   ---------- ----------------------------- 2.9/11.5 MB 1.6 MB/s eta 0:00:06\n",
            "   ---------- ----------------------------- 3.0/11.5 MB 1.6 MB/s eta 0:00:06\n",
            "   ---------- ----------------------------- 3.1/11.5 MB 1.6 MB/s eta 0:00:06\n",
            "   ---------- ----------------------------- 3.1/11.5 MB 1.5 MB/s eta 0:00:06\n",
            "   ---------- ----------------------------- 3.1/11.5 MB 1.5 MB/s eta 0:00:06\n",
            "   ---------- ----------------------------- 3.1/11.5 MB 1.5 MB/s eta 0:00:06\n",
            "   ----------- ---------------------------- 3.3/11.5 MB 1.5 MB/s eta 0:00:06\n",
            "   ----------- ---------------------------- 3.3/11.5 MB 1.5 MB/s eta 0:00:06\n",
            "   ----------- ---------------------------- 3.4/11.5 MB 1.5 MB/s eta 0:00:06\n",
            "   ------------ --------------------------- 3.5/11.5 MB 1.5 MB/s eta 0:00:06\n",
            "   ------------ --------------------------- 3.7/11.5 MB 1.6 MB/s eta 0:00:05\n",
            "   ------------- -------------------------- 3.7/11.5 MB 1.6 MB/s eta 0:00:05\n",
            "   ------------- -------------------------- 4.0/11.5 MB 1.6 MB/s eta 0:00:05\n",
            "   -------------- ------------------------- 4.0/11.5 MB 1.6 MB/s eta 0:00:05\n",
            "   -------------- ------------------------- 4.1/11.5 MB 1.6 MB/s eta 0:00:05\n",
            "   --------------- ------------------------ 4.3/11.5 MB 1.7 MB/s eta 0:00:05\n",
            "   --------------- ------------------------ 4.4/11.5 MB 1.7 MB/s eta 0:00:05\n",
            "   --------------- ------------------------ 4.4/11.5 MB 1.7 MB/s eta 0:00:05\n",
            "   --------------- ------------------------ 4.4/11.5 MB 1.7 MB/s eta 0:00:05\n",
            "   --------------- ------------------------ 4.4/11.5 MB 1.7 MB/s eta 0:00:05\n",
            "   --------------- ------------------------ 4.4/11.5 MB 1.7 MB/s eta 0:00:05\n",
            "   --------------- ------------------------ 4.5/11.5 MB 1.6 MB/s eta 0:00:05\n",
            "   --------------- ------------------------ 4.5/11.5 MB 1.6 MB/s eta 0:00:05\n",
            "   ---------------- ----------------------- 4.7/11.5 MB 1.6 MB/s eta 0:00:05\n",
            "   ---------------- ----------------------- 4.8/11.5 MB 1.6 MB/s eta 0:00:05\n",
            "   ----------------- ---------------------- 5.0/11.5 MB 1.7 MB/s eta 0:00:04\n",
            "   ----------------- ---------------------- 5.1/11.5 MB 1.7 MB/s eta 0:00:04\n",
            "   ------------------ --------------------- 5.3/11.5 MB 1.7 MB/s eta 0:00:04\n",
            "   ------------------- -------------------- 5.5/11.5 MB 1.7 MB/s eta 0:00:04\n",
            "   ------------------- -------------------- 5.6/11.5 MB 1.8 MB/s eta 0:00:04\n",
            "   -------------------- ------------------- 5.8/11.5 MB 1.8 MB/s eta 0:00:04\n",
            "   --------------------- ------------------ 6.1/11.5 MB 1.8 MB/s eta 0:00:03\n",
            "   --------------------- ------------------ 6.2/11.5 MB 1.9 MB/s eta 0:00:03\n",
            "   --------------------- ------------------ 6.2/11.5 MB 1.8 MB/s eta 0:00:03\n",
            "   ---------------------- ----------------- 6.4/11.5 MB 1.9 MB/s eta 0:00:03\n",
            "   ---------------------- ----------------- 6.4/11.5 MB 1.9 MB/s eta 0:00:03\n",
            "   ----------------------- ---------------- 6.6/11.5 MB 1.9 MB/s eta 0:00:03\n",
            "   ----------------------- ---------------- 6.6/11.5 MB 1.9 MB/s eta 0:00:03\n",
            "   ----------------------- ---------------- 6.8/11.5 MB 1.9 MB/s eta 0:00:03\n",
            "   ------------------------ --------------- 6.9/11.5 MB 1.9 MB/s eta 0:00:03\n",
            "   ------------------------ --------------- 7.2/11.5 MB 1.9 MB/s eta 0:00:03\n",
            "   ------------------------- -------------- 7.4/11.5 MB 2.0 MB/s eta 0:00:03\n",
            "   -------------------------- ------------- 7.5/11.5 MB 2.0 MB/s eta 0:00:02\n",
            "   --------------------------- ------------ 7.8/11.5 MB 2.0 MB/s eta 0:00:02\n",
            "   --------------------------- ------------ 7.9/11.5 MB 2.0 MB/s eta 0:00:02\n",
            "   ---------------------------- ----------- 8.2/11.5 MB 2.1 MB/s eta 0:00:02\n",
            "   ---------------------------- ----------- 8.2/11.5 MB 2.1 MB/s eta 0:00:02\n",
            "   ----------------------------- ---------- 8.4/11.5 MB 2.1 MB/s eta 0:00:02\n",
            "   ------------------------------ --------- 8.6/11.5 MB 2.1 MB/s eta 0:00:02\n",
            "   ------------------------------ --------- 8.7/11.5 MB 2.1 MB/s eta 0:00:02\n",
            "   ------------------------------ --------- 8.7/11.5 MB 2.1 MB/s eta 0:00:02\n",
            "   ------------------------------- -------- 9.0/11.5 MB 2.1 MB/s eta 0:00:02\n",
            "   ------------------------------- -------- 9.0/11.5 MB 2.1 MB/s eta 0:00:02\n",
            "   -------------------------------- ------- 9.2/11.5 MB 2.1 MB/s eta 0:00:02\n",
            "   -------------------------------- ------- 9.2/11.5 MB 2.1 MB/s eta 0:00:02\n",
            "   -------------------------------- ------- 9.3/11.5 MB 2.1 MB/s eta 0:00:02\n",
            "   --------------------------------- ------ 9.5/11.5 MB 2.1 MB/s eta 0:00:01\n",
            "   --------------------------------- ------ 9.6/11.5 MB 2.1 MB/s eta 0:00:01\n",
            "   ---------------------------------- ----- 9.9/11.5 MB 2.2 MB/s eta 0:00:01\n",
            "   ---------------------------------- ----- 10.0/11.5 MB 2.2 MB/s eta 0:00:01\n",
            "   ----------------------------------- ---- 10.1/11.5 MB 2.2 MB/s eta 0:00:01\n",
            "   ------------------------------------ --- 10.3/11.5 MB 2.2 MB/s eta 0:00:01\n",
            "   ------------------------------------ --- 10.5/11.5 MB 2.2 MB/s eta 0:00:01\n",
            "   ------------------------------------- -- 10.7/11.5 MB 2.3 MB/s eta 0:00:01\n",
            "   -------------------------------------- - 11.0/11.5 MB 2.4 MB/s eta 0:00:01\n",
            "   -------------------------------------- - 11.0/11.5 MB 2.4 MB/s eta 0:00:01\n",
            "   ---------------------------------------  11.2/11.5 MB 2.5 MB/s eta 0:00:01\n",
            "   ---------------------------------------  11.2/11.5 MB 2.5 MB/s eta 0:00:01\n",
            "   ---------------------------------------  11.4/11.5 MB 2.5 MB/s eta 0:00:01\n",
            "   ---------------------------------------  11.5/11.5 MB 2.5 MB/s eta 0:00:01\n",
            "   ---------------------------------------- 11.5/11.5 MB 2.5 MB/s eta 0:00:00\n",
            "Downloading numpy-1.26.4-cp312-cp312-win_amd64.whl (15.5 MB)\n",
            "   ---------------------------------------- 0.0/15.5 MB ? eta -:--:--\n",
            "    --------------------------------------- 0.3/15.5 MB 7.9 MB/s eta 0:00:02\n",
            "   - -------------------------------------- 0.4/15.5 MB 6.9 MB/s eta 0:00:03\n",
            "   - -------------------------------------- 0.6/15.5 MB 4.8 MB/s eta 0:00:04\n",
            "   -- ------------------------------------- 0.9/15.5 MB 5.1 MB/s eta 0:00:03\n",
            "   -- ------------------------------------- 1.0/15.5 MB 4.5 MB/s eta 0:00:04\n",
            "   --- ------------------------------------ 1.3/15.5 MB 4.7 MB/s eta 0:00:04\n",
            "   --- ------------------------------------ 1.5/15.5 MB 4.9 MB/s eta 0:00:03\n",
            "   --- ------------------------------------ 1.5/15.5 MB 4.3 MB/s eta 0:00:04\n",
            "   ---- ----------------------------------- 1.8/15.5 MB 4.4 MB/s eta 0:00:04\n",
            "   ---- ----------------------------------- 1.8/15.5 MB 4.0 MB/s eta 0:00:04\n",
            "   ----- ---------------------------------- 2.0/15.5 MB 4.1 MB/s eta 0:00:04\n",
            "   ----- ---------------------------------- 2.0/15.5 MB 4.1 MB/s eta 0:00:04\n",
            "   ----- ---------------------------------- 2.1/15.5 MB 3.6 MB/s eta 0:00:04\n",
            "   ----- ---------------------------------- 2.1/15.5 MB 3.3 MB/s eta 0:00:05\n",
            "   ----- ---------------------------------- 2.3/15.5 MB 3.4 MB/s eta 0:00:04\n",
            "   ------ --------------------------------- 2.6/15.5 MB 3.5 MB/s eta 0:00:04\n",
            "   ------- -------------------------------- 2.8/15.5 MB 3.6 MB/s eta 0:00:04\n",
            "   ------- -------------------------------- 3.0/15.5 MB 3.6 MB/s eta 0:00:04\n",
            "   -------- ------------------------------- 3.2/15.5 MB 3.6 MB/s eta 0:00:04\n",
            "   -------- ------------------------------- 3.4/15.5 MB 3.7 MB/s eta 0:00:04\n",
            "   --------- ------------------------------ 3.6/15.5 MB 3.7 MB/s eta 0:00:04\n",
            "   --------- ------------------------------ 3.9/15.5 MB 3.9 MB/s eta 0:00:04\n",
            "   ---------- ----------------------------- 3.9/15.5 MB 3.7 MB/s eta 0:00:04\n",
            "   ---------- ----------------------------- 4.1/15.5 MB 3.7 MB/s eta 0:00:04\n",
            "   ---------- ----------------------------- 4.1/15.5 MB 3.7 MB/s eta 0:00:04\n",
            "   ----------- ---------------------------- 4.3/15.5 MB 3.6 MB/s eta 0:00:04\n",
            "   ----------- ---------------------------- 4.3/15.5 MB 3.6 MB/s eta 0:00:04\n",
            "   ----------- ---------------------------- 4.4/15.5 MB 3.4 MB/s eta 0:00:04\n",
            "   ----------- ---------------------------- 4.4/15.5 MB 3.4 MB/s eta 0:00:04\n",
            "   ----------- ---------------------------- 4.5/15.5 MB 3.3 MB/s eta 0:00:04\n",
            "   ------------ --------------------------- 4.8/15.5 MB 3.3 MB/s eta 0:00:04\n",
            "   ------------ --------------------------- 5.0/15.5 MB 3.4 MB/s eta 0:00:04\n",
            "   ------------- -------------------------- 5.1/15.5 MB 3.3 MB/s eta 0:00:04\n",
            "   ------------- -------------------------- 5.4/15.5 MB 3.4 MB/s eta 0:00:03\n",
            "   -------------- ------------------------- 5.6/15.5 MB 3.5 MB/s eta 0:00:03\n",
            "   -------------- ------------------------- 5.8/15.5 MB 3.5 MB/s eta 0:00:03\n",
            "   --------------- ------------------------ 6.0/15.5 MB 3.5 MB/s eta 0:00:03\n",
            "   --------------- ------------------------ 6.2/15.5 MB 3.5 MB/s eta 0:00:03\n",
            "   ---------------- ----------------------- 6.3/15.5 MB 3.6 MB/s eta 0:00:03\n",
            "   ---------------- ----------------------- 6.3/15.5 MB 3.6 MB/s eta 0:00:03\n",
            "   ---------------- ----------------------- 6.5/15.5 MB 3.4 MB/s eta 0:00:03\n",
            "   ---------------- ----------------------- 6.5/15.5 MB 3.4 MB/s eta 0:00:03\n",
            "   ---------------- ----------------------- 6.5/15.5 MB 3.3 MB/s eta 0:00:03\n",
            "   ---------------- ----------------------- 6.6/15.5 MB 3.3 MB/s eta 0:00:03\n",
            "   ----------------- ---------------------- 6.7/15.5 MB 3.2 MB/s eta 0:00:03\n",
            "   ----------------- ---------------------- 6.8/15.5 MB 3.2 MB/s eta 0:00:03\n",
            "   ------------------ --------------------- 7.1/15.5 MB 3.2 MB/s eta 0:00:03\n",
            "   ------------------ --------------------- 7.2/15.5 MB 3.3 MB/s eta 0:00:03\n",
            "   ------------------- -------------------- 7.5/15.5 MB 3.3 MB/s eta 0:00:03\n",
            "   ------------------- -------------------- 7.8/15.5 MB 3.3 MB/s eta 0:00:03\n",
            "   -------------------- ------------------- 7.8/15.5 MB 3.3 MB/s eta 0:00:03\n",
            "   -------------------- ------------------- 8.1/15.5 MB 3.4 MB/s eta 0:00:03\n",
            "   --------------------- ------------------ 8.3/15.5 MB 3.4 MB/s eta 0:00:03\n",
            "   ---------------------- ----------------- 8.6/15.5 MB 3.4 MB/s eta 0:00:03\n",
            "   ---------------------- ----------------- 8.6/15.5 MB 3.4 MB/s eta 0:00:03\n",
            "   ---------------------- ----------------- 8.6/15.5 MB 3.4 MB/s eta 0:00:03\n",
            "   ---------------------- ----------------- 8.6/15.5 MB 3.4 MB/s eta 0:00:03\n",
            "   ---------------------- ----------------- 8.7/15.5 MB 3.3 MB/s eta 0:00:03\n",
            "   ---------------------- ----------------- 8.7/15.5 MB 3.2 MB/s eta 0:00:03\n",
            "   ---------------------- ----------------- 8.9/15.5 MB 3.2 MB/s eta 0:00:03\n",
            "   ----------------------- ---------------- 9.0/15.5 MB 3.2 MB/s eta 0:00:03\n",
            "   ----------------------- ---------------- 9.1/15.5 MB 3.2 MB/s eta 0:00:03\n",
            "   ------------------------ --------------- 9.4/15.5 MB 3.2 MB/s eta 0:00:02\n",
            "   ------------------------ --------------- 9.5/15.5 MB 3.2 MB/s eta 0:00:02\n",
            "   ------------------------- -------------- 9.8/15.5 MB 3.3 MB/s eta 0:00:02\n",
            "   ------------------------- -------------- 9.8/15.5 MB 3.2 MB/s eta 0:00:02\n",
            "   ------------------------- -------------- 10.1/15.5 MB 3.3 MB/s eta 0:00:02\n",
            "   -------------------------- ------------- 10.2/15.5 MB 3.2 MB/s eta 0:00:02\n",
            "   -------------------------- ------------- 10.3/15.5 MB 3.2 MB/s eta 0:00:02\n",
            "   -------------------------- ------------- 10.4/15.5 MB 3.2 MB/s eta 0:00:02\n",
            "   -------------------------- ------------- 10.4/15.5 MB 3.2 MB/s eta 0:00:02\n",
            "   --------------------------- ------------ 10.5/15.5 MB 3.1 MB/s eta 0:00:02\n",
            "   --------------------------- ------------ 10.6/15.5 MB 3.1 MB/s eta 0:00:02\n",
            "   --------------------------- ------------ 10.6/15.5 MB 3.1 MB/s eta 0:00:02\n",
            "   --------------------------- ------------ 10.7/15.5 MB 3.0 MB/s eta 0:00:02\n",
            "   --------------------------- ------------ 10.9/15.5 MB 3.0 MB/s eta 0:00:02\n",
            "   ---------------------------- ----------- 11.0/15.5 MB 3.0 MB/s eta 0:00:02\n",
            "   ----------------------------- ---------- 11.3/15.5 MB 3.0 MB/s eta 0:00:02\n",
            "   ----------------------------- ---------- 11.3/15.5 MB 3.0 MB/s eta 0:00:02\n",
            "   ----------------------------- ---------- 11.6/15.5 MB 3.0 MB/s eta 0:00:02\n",
            "   ----------------------------- ---------- 11.6/15.5 MB 3.0 MB/s eta 0:00:02\n",
            "   ------------------------------ --------- 11.8/15.5 MB 3.0 MB/s eta 0:00:02\n",
            "   ------------------------------- -------- 12.1/15.5 MB 3.0 MB/s eta 0:00:02\n",
            "   ------------------------------- -------- 12.2/15.5 MB 3.1 MB/s eta 0:00:02\n",
            "   -------------------------------- ------- 12.5/15.5 MB 3.1 MB/s eta 0:00:01\n",
            "   -------------------------------- ------- 12.7/15.5 MB 3.1 MB/s eta 0:00:01\n",
            "   -------------------------------- ------- 12.7/15.5 MB 3.1 MB/s eta 0:00:01\n",
            "   -------------------------------- ------- 12.8/15.5 MB 3.1 MB/s eta 0:00:01\n",
            "   --------------------------------- ------ 12.9/15.5 MB 3.1 MB/s eta 0:00:01\n",
            "   --------------------------------- ------ 13.0/15.5 MB 3.0 MB/s eta 0:00:01\n",
            "   --------------------------------- ------ 13.2/15.5 MB 3.0 MB/s eta 0:00:01\n",
            "   ---------------------------------- ----- 13.3/15.5 MB 3.0 MB/s eta 0:00:01\n",
            "   ---------------------------------- ----- 13.5/15.5 MB 3.0 MB/s eta 0:00:01\n",
            "   ----------------------------------- ---- 13.6/15.5 MB 3.0 MB/s eta 0:00:01\n",
            "   ----------------------------------- ---- 13.8/15.5 MB 3.0 MB/s eta 0:00:01\n",
            "   ----------------------------------- ---- 13.9/15.5 MB 3.0 MB/s eta 0:00:01\n",
            "   ------------------------------------ --- 14.1/15.5 MB 3.0 MB/s eta 0:00:01\n",
            "   ------------------------------------- -- 14.4/15.5 MB 3.0 MB/s eta 0:00:01\n",
            "   ------------------------------------- -- 14.5/15.5 MB 3.0 MB/s eta 0:00:01\n",
            "   -------------------------------------- - 14.8/15.5 MB 3.1 MB/s eta 0:00:01\n",
            "   -------------------------------------- - 15.0/15.5 MB 3.2 MB/s eta 0:00:01\n",
            "   -------------------------------------- - 15.0/15.5 MB 3.2 MB/s eta 0:00:01\n",
            "   -------------------------------------- - 15.0/15.5 MB 3.2 MB/s eta 0:00:01\n",
            "   -------------------------------------- - 15.1/15.5 MB 3.1 MB/s eta 0:00:01\n",
            "   ---------------------------------------  15.2/15.5 MB 3.0 MB/s eta 0:00:01\n",
            "   ---------------------------------------  15.4/15.5 MB 3.0 MB/s eta 0:00:01\n",
            "   ---------------------------------------  15.5/15.5 MB 3.0 MB/s eta 0:00:01\n",
            "   ---------------------------------------  15.5/15.5 MB 3.0 MB/s eta 0:00:01\n",
            "   ---------------------------------------- 15.5/15.5 MB 2.9 MB/s eta 0:00:00\n",
            "Downloading pytz-2024.1-py2.py3-none-any.whl (505 kB)\n",
            "   ---------------------------------------- 0.0/505.5 kB ? eta -:--:--\n",
            "   ---- ----------------------------------- 61.4/505.5 kB 3.4 MB/s eta 0:00:01\n",
            "   ------------------- -------------------- 245.8/505.5 kB 2.5 MB/s eta 0:00:01\n",
            "   ----------------------------------- ---- 450.6/505.5 kB 3.5 MB/s eta 0:00:01\n",
            "   ---------------------------------------  501.8/505.5 kB 2.9 MB/s eta 0:00:01\n",
            "   ---------------------------------------- 505.5/505.5 kB 2.6 MB/s eta 0:00:00\n",
            "Using cached tzdata-2024.1-py2.py3-none-any.whl (345 kB)\n",
            "Installing collected packages: pytz, tzdata, numpy, pandas\n",
            "Successfully installed numpy-1.26.4 pandas-2.2.1 pytz-2024.1 tzdata-2024.1\n"
          ]
        },
        {
          "name": "stderr",
          "output_type": "stream",
          "text": [
            "  WARNING: The script f2py.exe is installed in 'c:\\Users\\manis\\AppData\\Local\\Programs\\Python\\Python312\\Scripts' which is not on PATH.\n",
            "  Consider adding this directory to PATH or, if you prefer to suppress this warning, use --no-warn-script-location.\n",
            "\n",
            "[notice] A new release of pip is available: 23.2.1 -> 24.0\n",
            "[notice] To update, run: python.exe -m pip install --upgrade pip\n"
          ]
        }
      ],
      "source": [
        "pip install pandas\n"
      ]
    },
    {
      "cell_type": "code",
      "execution_count": 4,
      "metadata": {
        "colab": {
          "base_uri": "https://localhost:8080/"
        },
        "id": "_ggl3riZoV9r",
        "outputId": "f52ccea4-559c-4961-96d5-5e6d97382801"
      },
      "outputs": [
        {
          "name": "stdout",
          "output_type": "stream",
          "text": [
            "Collecting xlsxwriter\n",
            "  Obtaining dependency information for xlsxwriter from https://files.pythonhosted.org/packages/a7/ea/53d1fe468e63e092cf16e2c18d16f50c29851242f9dd12d6a66e0d7f0d02/XlsxWriter-3.2.0-py3-none-any.whl.metadata\n",
            "  Downloading XlsxWriter-3.2.0-py3-none-any.whl.metadata (2.6 kB)\n",
            "Downloading XlsxWriter-3.2.0-py3-none-any.whl (159 kB)\n",
            "   ---------------------------------------- 0.0/159.9 kB ? eta -:--:--\n",
            "   ---------------------------------------- 0.0/159.9 kB ? eta -:--:--\n",
            "   -- ------------------------------------- 10.2/159.9 kB ? eta -:--:--\n",
            "   --------- ----------------------------- 41.0/159.9 kB 487.6 kB/s eta 0:00:01\n",
            "   --------- ----------------------------- 41.0/159.9 kB 487.6 kB/s eta 0:00:01\n",
            "   -------------------------- ----------- 112.6/159.9 kB 726.2 kB/s eta 0:00:01\n",
            "   -------------------------- ----------- 112.6/159.9 kB 726.2 kB/s eta 0:00:01\n",
            "   -------------------------------------- 159.9/159.9 kB 637.0 kB/s eta 0:00:00\n",
            "Installing collected packages: xlsxwriter\n",
            "Successfully installed xlsxwriter-3.2.0\n",
            "Note: you may need to restart the kernel to use updated packages.\n"
          ]
        },
        {
          "name": "stderr",
          "output_type": "stream",
          "text": [
            "\n",
            "[notice] A new release of pip is available: 23.2.1 -> 24.0\n",
            "[notice] To update, run: python.exe -m pip install --upgrade pip\n"
          ]
        }
      ],
      "source": [
        "pip install xlsxwriter"
      ]
    },
    {
      "cell_type": "code",
      "execution_count": 5,
      "metadata": {
        "colab": {
          "base_uri": "https://localhost:8080/"
        },
        "id": "Hi00L0Keip6n",
        "outputId": "379eee69-9a7c-4da6-fb23-f964c21352e6"
      },
      "outputs": [
        {
          "name": "stdout",
          "output_type": "stream",
          "text": [
            "Requirement already satisfied: bs4 in c:\\users\\manis\\appdata\\local\\programs\\python\\python312\\lib\\site-packages (0.0.2)\n",
            "Requirement already satisfied: beautifulsoup4 in c:\\users\\manis\\appdata\\local\\programs\\python\\python312\\lib\\site-packages (from bs4) (4.12.3)\n",
            "Requirement already satisfied: soupsieve>1.2 in c:\\users\\manis\\appdata\\local\\programs\\python\\python312\\lib\\site-packages (from beautifulsoup4->bs4) (2.5)\n",
            "Note: you may need to restart the kernel to use updated packages.\n"
          ]
        },
        {
          "name": "stderr",
          "output_type": "stream",
          "text": [
            "\n",
            "[notice] A new release of pip is available: 23.2.1 -> 24.0\n",
            "[notice] To update, run: python.exe -m pip install --upgrade pip\n"
          ]
        }
      ],
      "source": [
        "pip install bs4"
      ]
    },
    {
      "cell_type": "code",
      "execution_count": 6,
      "metadata": {},
      "outputs": [
        {
          "name": "stdout",
          "output_type": "stream",
          "text": [
            "Requirement already satisfied: requests in c:\\users\\manis\\appdata\\local\\programs\\python\\python312\\lib\\site-packages (2.31.0)\n",
            "Requirement already satisfied: charset-normalizer<4,>=2 in c:\\users\\manis\\appdata\\local\\programs\\python\\python312\\lib\\site-packages (from requests) (3.3.2)\n",
            "Requirement already satisfied: idna<4,>=2.5 in c:\\users\\manis\\appdata\\local\\programs\\python\\python312\\lib\\site-packages (from requests) (3.6)\n",
            "Requirement already satisfied: urllib3<3,>=1.21.1 in c:\\users\\manis\\appdata\\local\\programs\\python\\python312\\lib\\site-packages (from requests) (2.2.1)\n",
            "Requirement already satisfied: certifi>=2017.4.17 in c:\\users\\manis\\appdata\\local\\programs\\python\\python312\\lib\\site-packages (from requests) (2024.2.2)\n",
            "Note: you may need to restart the kernel to use updated packages.\n"
          ]
        },
        {
          "name": "stderr",
          "output_type": "stream",
          "text": [
            "\n",
            "[notice] A new release of pip is available: 23.2.1 -> 24.0\n",
            "[notice] To update, run: python.exe -m pip install --upgrade pip\n"
          ]
        }
      ],
      "source": [
        "pip install requests"
      ]
    },
    {
      "cell_type": "code",
      "execution_count": 7,
      "metadata": {
        "id": "oZNDcNlrhmfs"
      },
      "outputs": [
        {
          "data": {
            "text/plain": [
              "'Return To SURAT-VESU On Dated 17-12-22'"
            ]
          },
          "execution_count": 7,
          "metadata": {},
          "output_type": "execute_result"
        }
      ],
      "source": [
        "import requests\n",
        "import datetime\n",
        "from bs4 import BeautifulSoup\n",
        "def func(awb):\n",
        "  url='http://www.shreetirupaticourier.net/frm_doctrackweb.aspx?docno='+str(awb)\n",
        "  r = requests.get(url)\n",
        "  df= BeautifulSoup(r.content, 'html.parser')\n",
        "  status=str(df.find(\"span\", { \"id\" : \"lblStatus\" }))\n",
        "  ans=\"\"\n",
        "  for i in range(65,1000):\n",
        "    if(status[i]=='<' or len(status)<i ):\n",
        "      break\n",
        "    ans=ans+status[i]\n",
        "  if(ans==\"\"):\n",
        "    ans=\"Not Available on Site\"\n",
        "  return ans\n",
        "\n",
        "# testing of function\n",
        "func(120200218978)\n"
      ]
    },
    {
      "cell_type": "markdown",
      "metadata": {
        "id": "inEASHGxd4p_"
      },
      "source": [
        "**STEP 1st and LAST: Put all  AWB number in bootom 'id' list**"
      ]
    },
    {
      "cell_type": "code",
      "execution_count": 8,
      "metadata": {
        "colab": {
          "base_uri": "https://localhost:8080/",
          "height": 36
        },
        "id": "W5D0v9RIdZ7z",
        "outputId": "310a6105-c8c6-4dfe-bbb7-42637233ee9e"
      },
      "outputs": [
        {
          "name": "stdout",
          "output_type": "stream",
          "text": [
            "<class 'pandas.core.frame.DataFrame'>\n"
          ]
        }
      ],
      "source": [
        "awbList = []\n",
        "import pandas as pd\n",
        "df = pd.read_excel('input.xlsx')\n",
        "# print(df)\n",
        "print(type(df))\n",
        "df=df.iloc[:, 0]\n",
        "for id in df:\n",
        "    awbList.append(id)\n",
        "\n"
      ]
    },
    {
      "cell_type": "code",
      "execution_count": 9,
      "metadata": {
        "id": "vtFkgdkTdmCx"
      },
      "outputs": [],
      "source": [
        "status=[]\n",
        "for awb in awbList:\n",
        "  status.append(func(awb))\n"
      ]
    },
    {
      "cell_type": "code",
      "execution_count": 10,
      "metadata": {
        "id": "__Ggi6D-deXU"
      },
      "outputs": [],
      "source": [
        "record=pd.DataFrame({\"AWB Number\":awbList ,\n",
        "                     'Parcel Status': status})\n",
        "record['AWB Number'] = record['AWB Number'].astype(str)\n"
      ]
    },
    {
      "cell_type": "code",
      "execution_count": 11,
      "metadata": {
        "colab": {
          "base_uri": "https://localhost:8080/",
          "height": 175
        },
        "id": "YIFNAAN3dt55",
        "outputId": "e5f7be6c-0877-436b-c642-7ce3d0929910"
      },
      "outputs": [
        {
          "data": {
            "text/html": [
              "<div>\n",
              "<style scoped>\n",
              "    .dataframe tbody tr th:only-of-type {\n",
              "        vertical-align: middle;\n",
              "    }\n",
              "\n",
              "    .dataframe tbody tr th {\n",
              "        vertical-align: top;\n",
              "    }\n",
              "\n",
              "    .dataframe thead th {\n",
              "        text-align: right;\n",
              "    }\n",
              "</style>\n",
              "<table border=\"1\" class=\"dataframe\">\n",
              "  <thead>\n",
              "    <tr style=\"text-align: right;\">\n",
              "      <th></th>\n",
              "      <th>AWB Number</th>\n",
              "      <th>Parcel Status</th>\n",
              "    </tr>\n",
              "  </thead>\n",
              "  <tbody>\n",
              "    <tr>\n",
              "      <th>0</th>\n",
              "      <td>120200414845</td>\n",
              "      <td>Delivered On Dated 06-02-24 By DELHI-JAGATPURI...</td>\n",
              "    </tr>\n",
              "    <tr>\n",
              "      <th>1</th>\n",
              "      <td>120200414846</td>\n",
              "      <td>Received At GHAZIABAD-INDRAPURAM On Dated 05-0...</td>\n",
              "    </tr>\n",
              "    <tr>\n",
              "      <th>2</th>\n",
              "      <td>120200414847</td>\n",
              "      <td>Booked By SURAT-VESU Dated 01-02-2024</td>\n",
              "    </tr>\n",
              "    <tr>\n",
              "      <th>3</th>\n",
              "      <td>120200414848</td>\n",
              "      <td>Delivered On Dated 03-02-24 By MUMBAI-DADAR (W)</td>\n",
              "    </tr>\n",
              "    <tr>\n",
              "      <th>4</th>\n",
              "      <td>120200414849</td>\n",
              "      <td>Received At HYDERABAD-KATTEDAN (77) On Dated 0...</td>\n",
              "    </tr>\n",
              "    <tr>\n",
              "      <th>...</th>\n",
              "      <td>...</td>\n",
              "      <td>...</td>\n",
              "    </tr>\n",
              "    <tr>\n",
              "      <th>671</th>\n",
              "      <td>120200415516</td>\n",
              "      <td>Out For Delivery By COIMBATORE- MAIN</td>\n",
              "    </tr>\n",
              "    <tr>\n",
              "      <th>672</th>\n",
              "      <td>120200415517</td>\n",
              "      <td>Delivered On Dated 08-03-24 By NOIDA-GREATER</td>\n",
              "    </tr>\n",
              "    <tr>\n",
              "      <th>673</th>\n",
              "      <td>120200415518</td>\n",
              "      <td>Booked By SURAT-VESU Dated 29-02-2024</td>\n",
              "    </tr>\n",
              "    <tr>\n",
              "      <th>674</th>\n",
              "      <td>120200415519</td>\n",
              "      <td>Delivered On Dated 09-03-24 By DHORAJI</td>\n",
              "    </tr>\n",
              "    <tr>\n",
              "      <th>675</th>\n",
              "      <td>120200415520</td>\n",
              "      <td>Delivered On Dated 09-03-24 By PUNE-BAVDHAN (21)</td>\n",
              "    </tr>\n",
              "  </tbody>\n",
              "</table>\n",
              "<p>676 rows × 2 columns</p>\n",
              "</div>"
            ],
            "text/plain": [
              "       AWB Number                                      Parcel Status\n",
              "0    120200414845  Delivered On Dated 06-02-24 By DELHI-JAGATPURI...\n",
              "1    120200414846  Received At GHAZIABAD-INDRAPURAM On Dated 05-0...\n",
              "2    120200414847              Booked By SURAT-VESU Dated 01-02-2024\n",
              "3    120200414848    Delivered On Dated 03-02-24 By MUMBAI-DADAR (W)\n",
              "4    120200414849  Received At HYDERABAD-KATTEDAN (77) On Dated 0...\n",
              "..            ...                                                ...\n",
              "671  120200415516               Out For Delivery By COIMBATORE- MAIN\n",
              "672  120200415517       Delivered On Dated 08-03-24 By NOIDA-GREATER\n",
              "673  120200415518              Booked By SURAT-VESU Dated 29-02-2024\n",
              "674  120200415519             Delivered On Dated 09-03-24 By DHORAJI\n",
              "675  120200415520   Delivered On Dated 09-03-24 By PUNE-BAVDHAN (21)\n",
              "\n",
              "[676 rows x 2 columns]"
            ]
          },
          "execution_count": 11,
          "metadata": {},
          "output_type": "execute_result"
        }
      ],
      "source": [
        "record       "
      ]
    },
    {
      "cell_type": "code",
      "execution_count": 12,
      "metadata": {},
      "outputs": [],
      "source": [
        "company_name=\"Shipping_Company : Shree Tirupati Courier Service PVT.LTD\"\n",
        "date=\"Date : \"+str(datetime.datetime.now())\n",
        "MetaData=pd.DataFrame({company_name, date})"
      ]
    },
    {
      "cell_type": "code",
      "execution_count": 13,
      "metadata": {
        "id": "AJtNzGXDoDj5"
      },
      "outputs": [],
      "source": [
        "writer = pd.ExcelWriter('output.xlsx', engine='xlsxwriter')\n",
        "# record.to_excel(writer, sheet_name='Sheet1', startrow=1, header=False, index=False)\n",
        "MetaData.to_excel(writer, sheet_name='Sheet1', startrow=1, header=False, index=False)\n",
        "record.to_excel(writer, sheet_name='Sheet1', startrow=4, header=False, index=False)\n",
        "writer.close()\n"
      ]
    },
    {
      "cell_type": "code",
      "execution_count": 15,
      "metadata": {},
      "outputs": [],
      "source": []
    }
  ],
  "metadata": {
    "colab": {
      "provenance": []
    },
    "kernelspec": {
      "display_name": "Python 3",
      "language": "python",
      "name": "python3"
    },
    "language_info": {
      "codemirror_mode": {
        "name": "ipython",
        "version": 3
      },
      "file_extension": ".py",
      "mimetype": "text/x-python",
      "name": "python",
      "nbconvert_exporter": "python",
      "pygments_lexer": "ipython3",
      "version": "3.12.1"
    },
    "vscode": {
      "interpreter": {
        "hash": "26de051ba29f2982a8de78e945f0abaf191376122a1563185a90213a26c5da77"
      }
    }
  },
  "nbformat": 4,
  "nbformat_minor": 0
}
